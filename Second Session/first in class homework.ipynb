{
 "cells": [
  {
   "cell_type": "code",
   "execution_count": 1,
   "metadata": {},
   "outputs": [
    {
     "name": "stdout",
     "output_type": "stream",
     "text": [
      "[1 2 3 4]\n"
     ]
    }
   ],
   "source": [
    "import numpy as np\n",
    "\n",
    "# make an array to have the same output\n",
    "a = None\n",
    "print(a)"
   ]
  },
  {
   "cell_type": "code",
   "execution_count": 2,
   "metadata": {},
   "outputs": [],
   "source": [
    "import time\n",
    "# make two random arrays of shape (1000000,)\n",
    "a = None\n",
    "b = None\n",
    "\n",
    "# get time from time library\n",
    "tic = None\n",
    "# make c as the product of dot from a and b\n",
    "c=None\n",
    "# get time again :))\n",
    "toc = None\n",
    "print(str(1000*(toc-tic))+' ms')"
   ]
  },
  {
   "cell_type": "code",
   "execution_count": 3,
   "metadata": {},
   "outputs": [],
   "source": [
    "# init c to zero\n",
    "c = None\n",
    "# get time\n",
    "tic = None\n",
    "# go through a and b and get the dot result into c\n",
    "for i in range(None):\n",
    "    c += None\n",
    "# get time again\n",
    "toc = None\n",
    "\n",
    "print(str(1000*(toc-tic))+' ms')"
   ]
  },
  {
   "cell_type": "code",
   "execution_count": 4,
   "metadata": {},
   "outputs": [],
   "source": [
    "nx = 4 \n",
    "m = 3"
   ]
  },
  {
   "cell_type": "code",
   "execution_count": 6,
   "metadata": {},
   "outputs": [],
   "source": [
    "# make W and b with the said size (use random)\n",
    "W = None\n",
    "b = None"
   ]
  },
  {
   "cell_type": "code",
   "execution_count": 7,
   "metadata": {},
   "outputs": [
    {
     "data": {
      "text/plain": [
       "(4, 3)"
      ]
     },
     "execution_count": 7,
     "metadata": {},
     "output_type": "execute_result"
    }
   ],
   "source": [
    "X = np.array([[1,1,1,1],[1,1,1,1],[0,0,0,0]])\n",
    "X = X.T\n",
    "X.shape"
   ]
  },
  {
   "cell_type": "code",
   "execution_count": 9,
   "metadata": {},
   "outputs": [],
   "source": [
    "# make z from x and w and b and the shape of it should be (1,3)\n",
    "Z = None"
   ]
  },
  {
   "cell_type": "code",
   "execution_count": 10,
   "metadata": {},
   "outputs": [],
   "source": [
    "epochs = 3\n",
    "learningRate = 0.01\n",
    "for i in range(epochs):\n",
    "#     make a = sigmoid (Z)\n",
    "    A = None\n",
    "#     make dZ\n",
    "    dZ = None\n",
    "    print(dZ.shape)\n",
    "    dW = None\n",
    "    db = None\n",
    "    W = None\n",
    "    b = None\n",
    "    Z = None"
   ]
  },
  {
   "cell_type": "code",
   "execution_count": null,
   "metadata": {},
   "outputs": [],
   "source": []
  }
 ],
 "metadata": {
  "kernelspec": {
   "display_name": "Python 3",
   "language": "python",
   "name": "python3"
  },
  "language_info": {
   "codemirror_mode": {
    "name": "ipython",
    "version": 3
   },
   "file_extension": ".py",
   "mimetype": "text/x-python",
   "name": "python",
   "nbconvert_exporter": "python",
   "pygments_lexer": "ipython3",
   "version": "3.6.4"
  }
 },
 "nbformat": 4,
 "nbformat_minor": 2
}
