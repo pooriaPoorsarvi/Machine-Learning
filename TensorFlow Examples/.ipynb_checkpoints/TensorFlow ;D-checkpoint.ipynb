{
 "cells": [
  {
   "cell_type": "code",
   "execution_count": 2,
   "metadata": {},
   "outputs": [],
   "source": [
    "import tensorflow as tf\n",
    "import numpy as np\n",
    "import pandas as pd\n",
    "import matplotlib.pyplot as plt\n",
    "from tensorflow.examples.tutorials.mnist import input_data\n",
    "\n"
   ]
  },
  {
   "cell_type": "markdown",
   "metadata": {},
   "source": [
    "We will try to work with the Modified National Institute of Standards and Technology"
   ]
  },
  {
   "cell_type": "markdown",
   "metadata": {},
   "source": [
    "We can use the following code to get data from tensorflow"
   ]
  },
  {
   "cell_type": "code",
   "execution_count": 3,
   "metadata": {},
   "outputs": [],
   "source": [
    "usingTensorData = False\n",
    "if usingTensorData:\n",
    "    mnist = input_data.read_data_sets(\"/tmp/data/\", one_hot=True)\n",
    "\n",
    "    # Load data\n",
    "    X_train = mnist.train.images\n",
    "    Y_train = mnist.train.labels\n",
    "    X_test = mnist.test.images\n",
    "    Y_test = mnist.test.labels\n",
    "    "
   ]
  },
  {
   "cell_type": "markdown",
   "metadata": {},
   "source": [
    "Or you can download the data set from [Kaggle](https://www.kaggle.com/c/digit-recognizer/data) and put it in your projects folder which I recommend so you'll get to use pandas as np more :D"
   ]
  },
  {
   "cell_type": "code",
   "execution_count": 89,
   "metadata": {},
   "outputs": [],
   "source": [
    "usingOurOwnData = True\n",
    "if(usingOurOwnData) :\n",
    "    data = pd.read_csv('train.csv')\n",
    "    dataTest = pd.read_csv('test.csv')"
   ]
  },
  {
   "cell_type": "code",
   "execution_count": 90,
   "metadata": {},
   "outputs": [
    {
     "data": {
      "text/html": [
       "<div>\n",
       "<style scoped>\n",
       "    .dataframe tbody tr th:only-of-type {\n",
       "        vertical-align: middle;\n",
       "    }\n",
       "\n",
       "    .dataframe tbody tr th {\n",
       "        vertical-align: top;\n",
       "    }\n",
       "\n",
       "    .dataframe thead th {\n",
       "        text-align: right;\n",
       "    }\n",
       "</style>\n",
       "<table border=\"1\" class=\"dataframe\">\n",
       "  <thead>\n",
       "    <tr style=\"text-align: right;\">\n",
       "      <th></th>\n",
       "      <th>label</th>\n",
       "      <th>pixel0</th>\n",
       "      <th>pixel1</th>\n",
       "      <th>pixel2</th>\n",
       "      <th>pixel3</th>\n",
       "      <th>pixel4</th>\n",
       "      <th>pixel5</th>\n",
       "      <th>pixel6</th>\n",
       "      <th>pixel7</th>\n",
       "      <th>pixel8</th>\n",
       "      <th>...</th>\n",
       "      <th>pixel774</th>\n",
       "      <th>pixel775</th>\n",
       "      <th>pixel776</th>\n",
       "      <th>pixel777</th>\n",
       "      <th>pixel778</th>\n",
       "      <th>pixel779</th>\n",
       "      <th>pixel780</th>\n",
       "      <th>pixel781</th>\n",
       "      <th>pixel782</th>\n",
       "      <th>pixel783</th>\n",
       "    </tr>\n",
       "  </thead>\n",
       "  <tbody>\n",
       "    <tr>\n",
       "      <th>0</th>\n",
       "      <td>1</td>\n",
       "      <td>0</td>\n",
       "      <td>0</td>\n",
       "      <td>0</td>\n",
       "      <td>0</td>\n",
       "      <td>0</td>\n",
       "      <td>0</td>\n",
       "      <td>0</td>\n",
       "      <td>0</td>\n",
       "      <td>0</td>\n",
       "      <td>...</td>\n",
       "      <td>0</td>\n",
       "      <td>0</td>\n",
       "      <td>0</td>\n",
       "      <td>0</td>\n",
       "      <td>0</td>\n",
       "      <td>0</td>\n",
       "      <td>0</td>\n",
       "      <td>0</td>\n",
       "      <td>0</td>\n",
       "      <td>0</td>\n",
       "    </tr>\n",
       "    <tr>\n",
       "      <th>1</th>\n",
       "      <td>0</td>\n",
       "      <td>0</td>\n",
       "      <td>0</td>\n",
       "      <td>0</td>\n",
       "      <td>0</td>\n",
       "      <td>0</td>\n",
       "      <td>0</td>\n",
       "      <td>0</td>\n",
       "      <td>0</td>\n",
       "      <td>0</td>\n",
       "      <td>...</td>\n",
       "      <td>0</td>\n",
       "      <td>0</td>\n",
       "      <td>0</td>\n",
       "      <td>0</td>\n",
       "      <td>0</td>\n",
       "      <td>0</td>\n",
       "      <td>0</td>\n",
       "      <td>0</td>\n",
       "      <td>0</td>\n",
       "      <td>0</td>\n",
       "    </tr>\n",
       "    <tr>\n",
       "      <th>2</th>\n",
       "      <td>1</td>\n",
       "      <td>0</td>\n",
       "      <td>0</td>\n",
       "      <td>0</td>\n",
       "      <td>0</td>\n",
       "      <td>0</td>\n",
       "      <td>0</td>\n",
       "      <td>0</td>\n",
       "      <td>0</td>\n",
       "      <td>0</td>\n",
       "      <td>...</td>\n",
       "      <td>0</td>\n",
       "      <td>0</td>\n",
       "      <td>0</td>\n",
       "      <td>0</td>\n",
       "      <td>0</td>\n",
       "      <td>0</td>\n",
       "      <td>0</td>\n",
       "      <td>0</td>\n",
       "      <td>0</td>\n",
       "      <td>0</td>\n",
       "    </tr>\n",
       "    <tr>\n",
       "      <th>3</th>\n",
       "      <td>4</td>\n",
       "      <td>0</td>\n",
       "      <td>0</td>\n",
       "      <td>0</td>\n",
       "      <td>0</td>\n",
       "      <td>0</td>\n",
       "      <td>0</td>\n",
       "      <td>0</td>\n",
       "      <td>0</td>\n",
       "      <td>0</td>\n",
       "      <td>...</td>\n",
       "      <td>0</td>\n",
       "      <td>0</td>\n",
       "      <td>0</td>\n",
       "      <td>0</td>\n",
       "      <td>0</td>\n",
       "      <td>0</td>\n",
       "      <td>0</td>\n",
       "      <td>0</td>\n",
       "      <td>0</td>\n",
       "      <td>0</td>\n",
       "    </tr>\n",
       "    <tr>\n",
       "      <th>4</th>\n",
       "      <td>0</td>\n",
       "      <td>0</td>\n",
       "      <td>0</td>\n",
       "      <td>0</td>\n",
       "      <td>0</td>\n",
       "      <td>0</td>\n",
       "      <td>0</td>\n",
       "      <td>0</td>\n",
       "      <td>0</td>\n",
       "      <td>0</td>\n",
       "      <td>...</td>\n",
       "      <td>0</td>\n",
       "      <td>0</td>\n",
       "      <td>0</td>\n",
       "      <td>0</td>\n",
       "      <td>0</td>\n",
       "      <td>0</td>\n",
       "      <td>0</td>\n",
       "      <td>0</td>\n",
       "      <td>0</td>\n",
       "      <td>0</td>\n",
       "    </tr>\n",
       "  </tbody>\n",
       "</table>\n",
       "<p>5 rows × 785 columns</p>\n",
       "</div>"
      ],
      "text/plain": [
       "   label  pixel0  pixel1  pixel2  pixel3  pixel4  pixel5  pixel6  pixel7  \\\n",
       "0      1       0       0       0       0       0       0       0       0   \n",
       "1      0       0       0       0       0       0       0       0       0   \n",
       "2      1       0       0       0       0       0       0       0       0   \n",
       "3      4       0       0       0       0       0       0       0       0   \n",
       "4      0       0       0       0       0       0       0       0       0   \n",
       "\n",
       "   pixel8    ...     pixel774  pixel775  pixel776  pixel777  pixel778  \\\n",
       "0       0    ...            0         0         0         0         0   \n",
       "1       0    ...            0         0         0         0         0   \n",
       "2       0    ...            0         0         0         0         0   \n",
       "3       0    ...            0         0         0         0         0   \n",
       "4       0    ...            0         0         0         0         0   \n",
       "\n",
       "   pixel779  pixel780  pixel781  pixel782  pixel783  \n",
       "0         0         0         0         0         0  \n",
       "1         0         0         0         0         0  \n",
       "2         0         0         0         0         0  \n",
       "3         0         0         0         0         0  \n",
       "4         0         0         0         0         0  \n",
       "\n",
       "[5 rows x 785 columns]"
      ]
     },
     "execution_count": 90,
     "metadata": {},
     "output_type": "execute_result"
    }
   ],
   "source": [
    "data.head()"
   ]
  },
  {
   "cell_type": "code",
   "execution_count": 91,
   "metadata": {},
   "outputs": [
    {
     "name": "stdout",
     "output_type": "stream",
     "text": [
      "<class 'pandas.core.frame.DataFrame'>\n",
      "RangeIndex: 42000 entries, 0 to 41999\n",
      "Columns: 785 entries, label to pixel783\n",
      "dtypes: int64(785)\n",
      "memory usage: 251.5 MB\n"
     ]
    }
   ],
   "source": [
    "data.info()"
   ]
  },
  {
   "cell_type": "code",
   "execution_count": 133,
   "metadata": {},
   "outputs": [],
   "source": [
    "npArr = data.as_matrix()\n",
    "npArrTest = dataTest.as_matrix()"
   ]
  },
  {
   "cell_type": "code",
   "execution_count": 134,
   "metadata": {},
   "outputs": [
    {
     "data": {
      "text/plain": [
       "(42000, 785)"
      ]
     },
     "execution_count": 134,
     "metadata": {},
     "output_type": "execute_result"
    }
   ],
   "source": [
    "npArr.shape"
   ]
  },
  {
   "cell_type": "code",
   "execution_count": 135,
   "metadata": {},
   "outputs": [],
   "source": [
    "labels = npArr[:,0]"
   ]
  },
  {
   "cell_type": "code",
   "execution_count": 136,
   "metadata": {},
   "outputs": [
    {
     "data": {
      "text/plain": [
       "(42000,)"
      ]
     },
     "execution_count": 136,
     "metadata": {},
     "output_type": "execute_result"
    }
   ],
   "source": [
    "labels.shape"
   ]
  },
  {
   "cell_type": "code",
   "execution_count": 138,
   "metadata": {},
   "outputs": [],
   "source": [
    "images = npArr[:,1:]\n",
    "testImages = npArrTest[:,:]"
   ]
  },
  {
   "cell_type": "code",
   "execution_count": 139,
   "metadata": {},
   "outputs": [
    {
     "data": {
      "text/plain": [
       "(42000, 784)"
      ]
     },
     "execution_count": 139,
     "metadata": {},
     "output_type": "execute_result"
    }
   ],
   "source": [
    "images.shape"
   ]
  },
  {
   "cell_type": "code",
   "execution_count": 140,
   "metadata": {},
   "outputs": [
    {
     "data": {
      "text/plain": [
       "(28000, 784)"
      ]
     },
     "execution_count": 140,
     "metadata": {},
     "output_type": "execute_result"
    }
   ],
   "source": [
    "testImages.shape"
   ]
  },
  {
   "cell_type": "code",
   "execution_count": 141,
   "metadata": {},
   "outputs": [
    {
     "data": {
      "text/plain": [
       "<matplotlib.image.AxesImage at 0x18781c84240>"
      ]
     },
     "execution_count": 141,
     "metadata": {},
     "output_type": "execute_result"
    },
    {
     "data": {
      "image/png": "[encoded data removed]",
      "text/plain": [
       "<matplotlib.figure.Figure at 0x18781c694a8>"
      ]
     },
     "metadata": {},
     "output_type": "display_data"
    }
   ],
   "source": [
    "plt.imshow(images[54].reshape([28,28]))"
   ]
  },
  {
   "cell_type": "code",
   "execution_count": 142,
   "metadata": {},
   "outputs": [
    {
     "data": {
      "text/plain": [
       "255"
      ]
     },
     "execution_count": 142,
     "metadata": {},
     "output_type": "execute_result"
    }
   ],
   "source": [
    "images[54].reshape([28,28]).max()"
   ]
  },
  {
   "cell_type": "code",
   "execution_count": 143,
   "metadata": {},
   "outputs": [
    {
     "name": "stdout",
     "output_type": "stream",
     "text": [
      "0\n"
     ]
    }
   ],
   "source": [
    "print(labels[54])"
   ]
  },
  {
   "cell_type": "code",
   "execution_count": 144,
   "metadata": {},
   "outputs": [],
   "source": [
    "labels = [np.eye(10)[i:i+1].reshape([10]) for i in labels]"
   ]
  },
  {
   "cell_type": "code",
   "execution_count": 145,
   "metadata": {},
   "outputs": [
    {
     "data": {
      "text/plain": [
       "[array([0., 1., 0., 0., 0., 0., 0., 0., 0., 0.]),\n",
       " array([1., 0., 0., 0., 0., 0., 0., 0., 0., 0.])]"
      ]
     },
     "execution_count": 145,
     "metadata": {},
     "output_type": "execute_result"
    }
   ],
   "source": [
    "labels[0:2]"
   ]
  },
  {
   "cell_type": "code",
   "execution_count": 146,
   "metadata": {},
   "outputs": [],
   "source": [
    "labels = np.array(labels)"
   ]
  },
  {
   "cell_type": "code",
   "execution_count": 147,
   "metadata": {},
   "outputs": [
    {
     "data": {
      "text/plain": [
       "(42000, 10)"
      ]
     },
     "execution_count": 147,
     "metadata": {},
     "output_type": "execute_result"
    }
   ],
   "source": [
    "labels.shape"
   ]
  },
  {
   "cell_type": "code",
   "execution_count": 148,
   "metadata": {},
   "outputs": [
    {
     "data": {
      "text/plain": [
       "array([1., 0., 0., 0., 0., 0., 0., 0., 0., 0.])"
      ]
     },
     "execution_count": 148,
     "metadata": {},
     "output_type": "execute_result"
    }
   ],
   "source": [
    "labels[54]"
   ]
  },
  {
   "cell_type": "code",
   "execution_count": 149,
   "metadata": {},
   "outputs": [
    {
     "data": {
      "text/plain": [
       "(42000, 784)"
      ]
     },
     "execution_count": 149,
     "metadata": {},
     "output_type": "execute_result"
    }
   ],
   "source": [
    "images.shape"
   ]
  },
  {
   "cell_type": "code",
   "execution_count": 21,
   "metadata": {},
   "outputs": [
    {
     "data": {
      "text/plain": [
       "(42000, 10)"
      ]
     },
     "execution_count": 21,
     "metadata": {},
     "output_type": "execute_result"
    }
   ],
   "source": [
    "labels.shape"
   ]
  },
  {
   "cell_type": "markdown",
   "metadata": {},
   "source": [
    "now lets make do some actual coding :D <br>\n",
    "(pay attention to the initializer and name and dtype (because it can not always store the same amount of number as in python) and shape)"
   ]
  },
  {
   "cell_type": "code",
   "execution_count": 22,
   "metadata": {},
   "outputs": [],
   "source": [
    "def getVariables(firstTime = True):\n",
    "    with tf.variable_scope(\"Net\",reuse= not firstTime):\n",
    "        weights1 = tf.get_variable(name=\"weight1\", dtype=tf.float32, shape=[784,10], initializer=tf.truncated_normal_initializer())\n",
    "        bias1 = tf.get_variable(name=\"bias1\", dtype=tf.float32, shape=[10], initializer=tf.zeros_initializer())\n",
    "        return weights1, bias1"
   ]
  },
  {
   "cell_type": "code",
   "execution_count": 23,
   "metadata": {},
   "outputs": [],
   "source": [
    "weights1, bias1 = getVariables()"
   ]
  },
  {
   "cell_type": "code",
   "execution_count": 24,
   "metadata": {},
   "outputs": [],
   "source": [
    "weAreCareful = True \n",
    "if weAreCareful :\n",
    "    weights1, bias1 = getVariables(False)\n",
    "else :\n",
    "    weights1, bias1 = getVariables(True)"
   ]
  },
  {
   "cell_type": "markdown",
   "metadata": {},
   "source": [
    "Note that I don't use initializer :D"
   ]
  },
  {
   "cell_type": "code",
   "execution_count": 25,
   "metadata": {},
   "outputs": [],
   "source": [
    "def getPlaceHolders():\n",
    "    imagesPlaceHolder = tf.placeholder(name=\"imageHolder\", dtype=tf.float32, shape=[None,784])\n",
    "    labelsPlaceHolder = tf.placeholder(name=\"labelHolder\", dtype=tf.float32, shape=[None,10])\n",
    "    return imagesPlaceHolder, labelsPlaceHolder"
   ]
  },
  {
   "cell_type": "code",
   "execution_count": 26,
   "metadata": {},
   "outputs": [],
   "source": [
    "imagesPlaceHolder, lablesPlaceHolder = getPlaceHolders()"
   ]
  },
  {
   "cell_type": "code",
   "execution_count": 27,
   "metadata": {},
   "outputs": [],
   "source": [
    "imagesPlaceHolder, lablesPlaceHolder = getPlaceHolders()\n",
    "# we didn't get any kind of error :D"
   ]
  },
  {
   "cell_type": "code",
   "execution_count": 52,
   "metadata": {},
   "outputs": [],
   "source": [
    "def getOutPut(weights1In, bias1In, imagesPlaceHolderIn, lablesPlaceHolderIn):\n",
    "    outPutMat = tf.matmul(imagesPlaceHolderIn, weights1In)\n",
    "    outPut = tf.add(outPutMat, bias1In)\n",
    "    return outPut"
   ]
  },
  {
   "cell_type": "code",
   "execution_count": 53,
   "metadata": {},
   "outputs": [],
   "source": [
    "outPut = getOutPut(weights1, bias1, imagesPlaceHolder, lablesPlaceHolder)"
   ]
  },
  {
   "cell_type": "code",
   "execution_count": 54,
   "metadata": {},
   "outputs": [
    {
     "data": {
      "text/plain": [
       "TensorShape([Dimension(None), Dimension(10)])"
      ]
     },
     "execution_count": 54,
     "metadata": {},
     "output_type": "execute_result"
    }
   ],
   "source": [
    "outPut.shape"
   ]
  },
  {
   "cell_type": "code",
   "execution_count": 55,
   "metadata": {},
   "outputs": [],
   "source": [
    "def getLoss(labelsIn ,outPutIn, dropOut=False, weightsIn = None, beta=0.5):\n",
    "    loss1 = tf.reduce_mean(tf.nn.softmax_cross_entropy_with_logits_v2(labels = labelsIn, logits=outPutIn))\n",
    "    if(weightsIn == None):\n",
    "            loss = loss1 \n",
    "    elif not (dropOut) :\n",
    "        regularizer = tf.nn.l2_loss(weightsIn)\n",
    "        loss = tf.reduce_mean(loss1 + beta * regularizer)\n",
    "    else :\n",
    "        "
   ]
  },
  {
   "cell_type": "code",
   "execution_count": 62,
   "metadata": {},
   "outputs": [],
   "source": [
    "loss = getLoss(lablesPlaceHolder, outPut)"
   ]
  },
  {
   "cell_type": "code",
   "execution_count": 63,
   "metadata": {},
   "outputs": [
    {
     "data": {
      "text/plain": [
       "TensorShape([])"
      ]
     },
     "execution_count": 63,
     "metadata": {},
     "output_type": "execute_result"
    }
   ],
   "source": [
    "loss.shape"
   ]
  },
  {
   "cell_type": "code",
   "execution_count": 64,
   "metadata": {},
   "outputs": [],
   "source": [
    "def getAccuracy(realOut, realPred):\n",
    "    res = 0\n",
    "    for i in range(realOut.shape[0]):\n",
    "        if(realOut[i].argmax() == realPred[i].argmax()):\n",
    "            res += 1\n",
    "    return res / realOut.shape[0]"
   ]
  },
  {
   "cell_type": "code",
   "execution_count": 65,
   "metadata": {},
   "outputs": [
    {
     "name": "stdout",
     "output_type": "stream",
     "text": [
      "1.0\n"
     ]
    }
   ],
   "source": [
    "print(getAccuracy(labels, labels))"
   ]
  },
  {
   "cell_type": "markdown",
   "metadata": {},
   "source": [
    "Try not to use more than 32 for minibatch :<br>\n",
    "Training with large minibatches is bad for your health.<br>\n",
    "More importantly, it's bad for your test error.<br>\n",
    "Friends dont let friends use minibatches larger than 32 <br>\n",
    "[Yann LeCun](https://twitter.com/ylecun/status/989610208497360896?lang=en)<br>\n",
    "[Paper](https://arxiv.org/abs/1804.07612)\n"
   ]
  },
  {
   "cell_type": "code",
   "execution_count": 80,
   "metadata": {},
   "outputs": [],
   "source": [
    "def train(imagesIn, labelsIn, weights1In, bias1In, imagesPlaceHolderIn, lablesPlaceHolderIn, outPutIn, lossIn, lr = 1e-3, epochs = 100, useMiniBatch = False, miniBatches = 16):\n",
    "    if not (useMiniBatch):\n",
    "        miniBatches = imagesIn.shape[0]\n",
    "        \n",
    "    trainer = tf.train.AdamOptimizer(learning_rate=lr).minimize(lossIn, var_list=tf.trainable_variables())\n",
    "    init = tf.global_variables_initializer()\n",
    "    \n",
    "    with tf.Session() as sess :\n",
    "        \n",
    "        sess.run(init)\n",
    "        \n",
    "        feed_dict = {imagesPlaceHolder : imagesIn, lablesPlaceHolder : labelsIn}\n",
    "        print(\"loss is %f \" % sess.run(loss,feed_dict=feed_dict))\n",
    "        print(\"accuracy is %f \" % getAccuracy(labelsIn, sess.run(outPut,feed_dict=feed_dict)))\n",
    "        \n",
    "        for j in range(epochs):\n",
    "            \n",
    "            for i in range(int(imagesIn.shape[0]/miniBatches)+1):\n",
    "                start = i*miniBatches\n",
    "                end = (i+1)*miniBatches\n",
    "\n",
    "                if(i==int(imagesIn.shape[0]/miniBatches)):\n",
    "                    end = imagesIn.shape[0]\n",
    "\n",
    "                x = imagesIn[start:end]\n",
    "                y = labelsIn[start:end]\n",
    "                \n",
    "                feed_dict = {imagesPlaceHolderIn : x, lablesPlaceHolderIn : y}\n",
    "                sess.run(trainer,feed_dict=feed_dict)\n",
    "            \n",
    "        \n",
    "        feed_dict = {imagesPlaceHolder : imagesIn, lablesPlaceHolder : labelsIn}\n",
    "        print(\"loss is %f \" % sess.run(loss,feed_dict=feed_dict))\n",
    "        print(\"accuracy is %f \" % getAccuracy(labelsIn, sess.run(outPut,feed_dict=feed_dict)))\n",
    "        \n",
    "        \n",
    "    "
   ]
  },
  {
   "cell_type": "code",
   "execution_count": 81,
   "metadata": {},
   "outputs": [
    {
     "name": "stdout",
     "output_type": "stream",
     "text": [
      "loss is 2630.550781 \n",
      "accuracy is 0.090500 \n",
      "loss is 2.889621 \n",
      "accuracy is 0.973500 \n"
     ]
    }
   ],
   "source": [
    "train(images[:2000], labels[:2000], weights1, bias1, imagesPlaceHolder, lablesPlaceHolder, outPut, loss, useMiniBatch=True)"
   ]
  },
  {
   "cell_type": "code",
   "execution_count": 219,
   "metadata": {},
   "outputs": [],
   "source": [
    "def getWholeNewModel(tesImagestIn, testLabelsIn, imagesIn, labelsIn,first = True, addDropOut = False, probDrop=0.6, addReg=False, beta = 0.4, useMiniBatch=False, miniBatches=16, normalise=False, epochs=100, lr=1e-3):\n",
    "    with tf.variable_scope('Net2',reuse = not first):\n",
    "        w1 = tf.get_variable(name = 'w1', shape=[784,100], dtype=tf.float32, initializer=tf.truncated_normal_initializer())\n",
    "        b1 = tf.get_variable(name = 'b1', shape=[100], dtype=tf.float32, initializer=tf.zeros_initializer())\n",
    "        w2 = tf.get_variable(name = 'w2', shape=[100,10], dtype=tf.float32, initializer=tf.truncated_normal_initializer())\n",
    "        b2 = tf.get_variable(name = 'b2', shape=[10], dtype=tf.float32, initializer=tf.zeros_initializer())\n",
    "        \n",
    "        \n",
    "        \n",
    "        imgplc = tf.placeholder(name=\"imgplc\", dtype=tf.float32, shape=[None,784])\n",
    "        lableplc = tf.placeholder(name=\"lableplc\", dtype=tf.float32, shape=[None,10])\n",
    "        \n",
    "        \n",
    "        mid = tf.add(tf.matmul(imgplc,w1),b1)\n",
    "        \n",
    "        if(addDropOut):\n",
    "            mid = tf.nn.dropout(mid, keep_prob=probDrop)\n",
    "        \n",
    "        outFinal = tf.add(tf.matmul(mid,w2),b2)\n",
    "        \n",
    "        lossFinal = tf.reduce_mean(tf.nn.softmax_cross_entropy_with_logits_v2(labels=lableplc, logits=outFinal))\n",
    "        if(addReg):\n",
    "            reg = tf.nn.l2_loss(w2)\n",
    "            lossFinal = tf.reduce_sum(lossFinal+reg*beta)\n",
    "        \n",
    "        \n",
    "        if(normalise):\n",
    "            imagesIn = imagesIn /  255.0\n",
    "            tesImagestIn = tesImagestIn / 255.0\n",
    "            \n",
    "        trainer = tf.train.AdamOptimizer(learning_rate=lr).minimize(lossFinal, var_list=tf.trainable_variables())\n",
    "\n",
    "        init1 = tf.global_variables_initializer()\n",
    "\n",
    "        with tf.Session() as sess :\n",
    "\n",
    "            sess.run(init1)\n",
    "#             print(sess.run(w1))\n",
    "\n",
    "            feed_dict_test = {imgplc : tesImagestIn, lableplc : testLabelsIn}\n",
    "            feed_dict = {imgplc : imagesIn, lableplc : labelsIn}\n",
    "\n",
    "\n",
    "\n",
    "            print(\"loss of train is %f \" % sess.run(lossFinal,feed_dict=feed_dict))\n",
    "            print(\"accuracy of test is %f \" % getAccuracy(labelsIn, sess.run(outFinal,feed_dict=feed_dict)))\n",
    "\n",
    "            print(\"loss of test is %f \" % sess.run(lossFinal,feed_dict=feed_dict_test))\n",
    "            print(\"accuracy of test is %f \" % getAccuracy(testLabelsIn, sess.run(outFinal,feed_dict=feed_dict_test)))\n",
    "\n",
    "\n",
    "            if not (useMiniBatch):\n",
    "                miniBatches = imagesIn.shape[0]\n",
    "\n",
    "#             this is exactly what you should not do             \n",
    "#             trainer = tf.train.AdamOptimizer().minimize(lossFinal, var_list=tf.trainable_variables())\n",
    "\n",
    "            for j in range(epochs):\n",
    "\n",
    "                for i in range(int(imagesIn.shape[0]/miniBatches)+1):\n",
    "                    start = i*miniBatches\n",
    "                    end = (i+1)*miniBatches\n",
    "\n",
    "                    if(i==int(imagesIn.shape[0]/miniBatches)):\n",
    "                        end = imagesIn.shape[0]\n",
    "\n",
    "                    x = imagesIn[start:end]\n",
    "                    y = labelsIn[start:end]\n",
    "\n",
    "                    feed_dict = {imgplc : x, lableplc : y}\n",
    "                    sess.run(trainer,feed_dict=feed_dict)\n",
    "\n",
    "\n",
    "            feed_dict = {imgplc : imagesIn, lableplc : labelsIn}\n",
    "            print()\n",
    "            print(\"loss is %f \" % sess.run(lossFinal,feed_dict=feed_dict))\n",
    "            print(\"accuracy is %f \" % getAccuracy(labelsIn, sess.run(outFinal,feed_dict=feed_dict)))\n",
    "\n",
    "            print(\"loss of test is %f \" % sess.run(lossFinal,feed_dict=feed_dict_test))\n",
    "            print(\"accuracy of test is %f \" % getAccuracy(testLabelsIn, sess.run(outFinal,feed_dict=feed_dict_test)))\n",
    "\n",
    "\n",
    "\n"
   ]
  },
  {
   "cell_type": "code",
   "execution_count": 217,
   "metadata": {},
   "outputs": [
    {
     "name": "stdout",
     "output_type": "stream",
     "text": [
      "loss of train is 34002.539062 \n",
      "accuracy of test is 0.075000 \n",
      "loss of test is 36563.109375 \n",
      "accuracy of test is 0.130000 \n",
      "\n",
      "loss is 0.000000 \n",
      "accuracy is 1.000000 \n",
      "loss of test is 6137.491211 \n",
      "accuracy of test is 0.485000 \n"
     ]
    }
   ],
   "source": [
    "tf.reset_default_graph()\n",
    "getWholeNewModel(images[200:400],labels[200:400],images[:200],labels[:200],useMiniBatch=True)"
   ]
  },
  {
   "cell_type": "code",
   "execution_count": 218,
   "metadata": {},
   "outputs": [
    {
     "name": "stdout",
     "output_type": "stream",
     "text": [
      "loss of train is 26166.447266 \n",
      "accuracy of test is 0.087000 \n",
      "loss of test is 26505.564453 \n",
      "accuracy of test is 0.079500 \n",
      "\n",
      "loss is 0.000000 \n",
      "accuracy is 1.000000 \n",
      "loss of test is 1442.258423 \n",
      "accuracy of test is 0.842500 \n"
     ]
    }
   ],
   "source": [
    "tf.reset_default_graph()\n",
    "getWholeNewModel(images[2000:4000],labels[2000:4000],images[:2000],labels[:2000],useMiniBatch=True)"
   ]
  },
  {
   "cell_type": "code",
   "execution_count": 220,
   "metadata": {},
   "outputs": [
    {
     "name": "stdout",
     "output_type": "stream",
     "text": [
      "loss of train is 112.776260 \n",
      "accuracy of test is 0.090000 \n",
      "loss of test is 122.412491 \n",
      "accuracy of test is 0.080000 \n",
      "\n",
      "loss is 0.000782 \n",
      "accuracy is 1.000000 \n",
      "loss of test is 17.545813 \n",
      "accuracy of test is 0.550000 \n"
     ]
    }
   ],
   "source": [
    "tf.reset_default_graph()\n",
    "getWholeNewModel(images[200:400],labels[200:400],images[:200],labels[:200],useMiniBatch=True,normalise=True)"
   ]
  },
  {
   "cell_type": "code",
   "execution_count": 221,
   "metadata": {},
   "outputs": [
    {
     "name": "stdout",
     "output_type": "stream",
     "text": [
      "loss of train is 123.293900 \n",
      "accuracy of test is 0.086000 \n",
      "loss of test is 123.945503 \n",
      "accuracy of test is 0.095000 \n",
      "\n",
      "loss is 0.000009 \n",
      "accuracy is 1.000000 \n",
      "loss of test is 5.247106 \n",
      "accuracy of test is 0.841500 \n"
     ]
    }
   ],
   "source": [
    "tf.reset_default_graph()\n",
    "getWholeNewModel(images[2000:4000],labels[2000:4000],images[:2000],labels[:2000],useMiniBatch=True,normalise=True)"
   ]
  },
  {
   "cell_type": "code",
   "execution_count": 222,
   "metadata": {},
   "outputs": [
    {
     "name": "stdout",
     "output_type": "stream",
     "text": [
      "loss of train is 35030.230469 \n",
      "accuracy of test is 0.088000 \n",
      "loss of test is 36395.230469 \n",
      "accuracy of test is 0.089000 \n",
      "\n",
      "loss is 229.494370 \n",
      "accuracy is 0.939500 \n",
      "loss of test is 1746.458862 \n",
      "accuracy of test is 0.835500 \n"
     ]
    }
   ],
   "source": [
    "tf.reset_default_graph()\n",
    "getWholeNewModel(images[2000:4000],labels[2000:4000],images[:2000],labels[:2000],useMiniBatch=True,addDropOut=True)"
   ]
  },
  {
   "cell_type": "code",
   "execution_count": 223,
   "metadata": {},
   "outputs": [
    {
     "name": "stdout",
     "output_type": "stream",
     "text": [
      "loss of train is 37459.660156 \n",
      "accuracy of test is 0.056500 \n",
      "loss of test is 37848.613281 \n",
      "accuracy of test is 0.060000 \n",
      "\n",
      "loss is 108.331970 \n",
      "accuracy is 0.993000 \n",
      "loss of test is 1396.429688 \n",
      "accuracy of test is 0.843000 \n"
     ]
    }
   ],
   "source": [
    "tf.reset_default_graph()\n",
    "getWholeNewModel(images[2000:4000],labels[2000:4000],images[:2000],labels[:2000],useMiniBatch=True,addReg=True)"
   ]
  },
  {
   "cell_type": "code",
   "execution_count": null,
   "metadata": {},
   "outputs": [],
   "source": []
  }
 ],
 "metadata": {
  "kernelspec": {
   "display_name": "Python 3",
   "language": "python",
   "name": "python3"
  },
  "language_info": {
   "codemirror_mode": {
    "name": "ipython",
    "version": 3
   },
   "file_extension": ".py",
   "mimetype": "text/x-python",
   "name": "python",
   "nbconvert_exporter": "python",
   "pygments_lexer": "ipython3",
   "version": "3.6.4"
  }
 },
 "nbformat": 4,
 "nbformat_minor": 2
}
